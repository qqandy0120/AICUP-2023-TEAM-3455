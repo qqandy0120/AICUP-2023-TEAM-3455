{
 "cells": [
  {
   "cell_type": "code",
   "execution_count": 1,
   "metadata": {},
   "outputs": [],
   "source": [
    "from elasticsearch import Elasticsearch\n",
    "import configparser\n",
    "from pathlib import Path\n",
    "import json\n",
    "from tqdm import tqdm"
   ]
  },
  {
   "cell_type": "code",
   "execution_count": 2,
   "metadata": {},
   "outputs": [
    {
     "data": {
      "text/plain": [
       "['credential.ini']"
      ]
     },
     "execution_count": 2,
     "metadata": {},
     "output_type": "execute_result"
    }
   ],
   "source": [
    "config = configparser.ConfigParser()\n",
    "config.read('credential.ini')"
   ]
  },
  {
   "cell_type": "code",
   "execution_count": 3,
   "metadata": {},
   "outputs": [],
   "source": [
    "es = Elasticsearch(\n",
    "    cloud_id=config['ELASTIC']['cloud_id'],\n",
    "    basic_auth=(config['ELASTIC']['user'], config['ELASTIC']['password'])\n",
    ")"
   ]
  },
  {
   "attachments": {},
   "cell_type": "markdown",
   "metadata": {},
   "source": [
    "### Ingest data with python on Elasticsearch Service"
   ]
  },
  {
   "cell_type": "code",
   "execution_count": 4,
   "metadata": {},
   "outputs": [],
   "source": [
    "# from time import sleep\n",
    "# for page_id in range(1, 25):\n",
    "#     wiki_path = Path(f'../data/wiki-pages/wiki-{str(page_id).zfill(3)}.jsonl')\n",
    "#     print(f'Ingesting wiki-{str(page_id).zfill(3)}...')\n",
    "#     page_sum = sum([1 for i in open(wiki_path, 'r')])\n",
    "#     with open(wiki_path, 'r') as f:\n",
    "#         for doc_id, line in tqdm(enumerate(f), total=page_sum):\n",
    "#             es.index(\n",
    "#                 index='wiki-page',\n",
    "#                 id=f'{str(page_id).zfill(3)}-{str(doc_id+1).zfill(5)}',\n",
    "#                 document=json.loads(line)\n",
    "#             )"
   ]
  },
  {
   "cell_type": "code",
   "execution_count": 5,
   "metadata": {},
   "outputs": [
    {
     "data": {
      "text/plain": [
       "ObjectApiResponse({'_shards': {'total': 2, 'successful': 2, 'failed': 0}})"
      ]
     },
     "execution_count": 5,
     "metadata": {},
     "output_type": "execute_result"
    }
   ],
   "source": [
    "es.indices.refresh(index='wiki-page')"
   ]
  },
  {
   "cell_type": "code",
   "execution_count": 6,
   "metadata": {},
   "outputs": [
    {
     "name": "stdout",
     "output_type": "stream",
     "text": [
      "Document ID: 014-26276, Name: 逮捕證, Score: 33.169304\n",
      "Document ID: 004-17505, Name: 證券交易法, Score: 31.88828\n",
      "Document ID: 001-38486, Name: 犯罪嫌疑人, Score: 31.809181\n",
      "Document ID: 012-33272, Name: 證券交易法_(中華民國), Score: 29.654058\n",
      "Document ID: 018-17290, Name: 中國證券交易所, Score: 29.618668\n",
      "Document ID: 007-42209, Name: 犯罪心理：嫌犯動機, Score: 29.317818\n",
      "Document ID: 007-36582, Name: 公安部證券犯罪偵查局, Score: 28.544613\n",
      "Document ID: 004-15588, Name: 河內證券交易所, Score: 27.575668\n",
      "Document ID: 003-08179, Name: 逮捕, Score: 27.389196\n",
      "Document ID: 020-48523, Name: 公民逮捕, Score: 27.312943\n"
     ]
    }
   ],
   "source": [
    "\n",
    "text = '中國人徐翔曾因爲涉嫌操縱證券市場及內幕交易犯罪，被公安機關依法批准逮捕。'\n",
    "\n",
    "result = es.search(\n",
    "    index='wiki-page',\n",
    "    query={\n",
    "        'match':{\n",
    "            'id': text\n",
    "        }\n",
    "    }\n",
    ")\n",
    "\n",
    "\n",
    "hits = result['hits']['hits']\n",
    "\n",
    "for hit in hits:\n",
    "    document_id = hit[\"_id\"]\n",
    "    score = hit[\"_score\"]\n",
    "    page_name = hit['_source']['id']\n",
    "    print(f\"Document ID: {document_id}, Name: {page_name}, Score: {score}\")"
   ]
  },
  {
   "cell_type": "code",
   "execution_count": 7,
   "metadata": {},
   "outputs": [
    {
     "name": "stdout",
     "output_type": "stream",
     "text": [
      "1187751\n"
     ]
    },
    {
     "name": "stderr",
     "output_type": "stream",
     "text": [
      "/var/folders/3q/d3sbdtsx0pvclp6tnk0bc6mw0000gn/T/ipykernel_34179/3433032946.py:8: DeprecationWarning: The 'body' parameter is deprecated and will be removed in a future version. Instead use individual parameters.\n",
      "  response = es.count(index=index_name, body=query)\n"
     ]
    }
   ],
   "source": [
    "index_name = 'wiki-page'\n",
    "query = {\n",
    "    'query': {\n",
    "        'match_all': {}\n",
    "    }\n",
    "}\n",
    "\n",
    "response = es.count(index=index_name, body=query)\n",
    "\n",
    "total_count = response['count']\n",
    "print(total_count)"
   ]
  },
  {
   "attachments": {},
   "cell_type": "markdown",
   "metadata": {},
   "source": [
    "### 找 wiki page 位置"
   ]
  },
  {
   "cell_type": "code",
   "execution_count": 8,
   "metadata": {},
   "outputs": [
    {
     "name": "stderr",
     "output_type": "stream",
     "text": [
      "/var/folders/3q/d3sbdtsx0pvclp6tnk0bc6mw0000gn/T/ipykernel_34179/3910231914.py:16: DeprecationWarning: The 'body' parameter is deprecated and will be removed in a future version. Instead use individual parameters.\n",
      "  response = es.search(index=index_name, body=query)\n"
     ]
    },
    {
     "name": "stdout",
     "output_type": "stream",
     "text": [
      "Page ID: 022-11284, Name: 臺南市立安平水產專修學校, Score: 35.76047\n",
      "{'_index': 'wiki-page', '_id': '022-11284', '_score': 35.76047, '_source': {'id': '臺南市立安平水產專修學校', 'text': '臺南市立安平水產專修學校爲臺灣日治時期位於臺南市安平的水產類實業補習學校 ， 設立於1930年 ， 在1939即停辦 。', 'lines': '0\\t臺南市立安平水產專修學校爲臺灣日治時期位於臺南市安平的水產類實業補習學校 ， 設立於1930年 ， 在1939即停辦 。\\t\\n1\\t'}}\n"
     ]
    }
   ],
   "source": [
    "index_name = \"wiki-page\"\n",
    "\n",
    "page_name = \"臺南市安平水產專修學校\"\n",
    "\n",
    "# 構建查詢\n",
    "query = {\n",
    "    \"query\": {\n",
    "        \"match\": {\n",
    "            \"id\": page_name\n",
    "        }\n",
    "    },\n",
    "    'size': 1  # default size: 10\n",
    "}\n",
    "\n",
    "# 執行查詢\n",
    "response = es.search(index=index_name, body=query)\n",
    "\n",
    "# 解析結果\n",
    "hits = response[\"hits\"][\"hits\"]\n",
    "related_pages = [(hit[\"_id\"], hit['_source']['id'], hit[\"_score\"]) for hit in hits]\n",
    "\n",
    "# 打印相關頁面信息\n",
    "for page_id, name, score in related_pages:\n",
    "    print(f\"Page ID: {page_id}, Name: {name}, Score: {score}\")\n",
    "\n",
    "print(hits[0])"
   ]
  },
  {
   "attachments": {},
   "cell_type": "markdown",
   "metadata": {},
   "source": [
    "### 全文檢索"
   ]
  },
  {
   "cell_type": "code",
   "execution_count": 16,
   "metadata": {},
   "outputs": [
    {
     "name": "stderr",
     "output_type": "stream",
     "text": [
      "/var/folders/3q/d3sbdtsx0pvclp6tnk0bc6mw0000gn/T/ipykernel_16699/2416624958.py:17: DeprecationWarning: The 'body' parameter is deprecated and will be removed in a future version. Instead use individual parameters.\n",
      "  response = es.search(index=index_name, body=query)\n"
     ]
    },
    {
     "name": "stdout",
     "output_type": "stream",
     "text": [
      "Page ID: 001-09687, Name: 海衛七, Score: 56.93269\n",
      "Page ID: 001-09619, Name: 木衛十六, Score: 55.367805\n",
      "Page ID: 001-09635, Name: 木衛三十七, Score: 53.80496\n",
      "Page ID: 014-41174, Name: 潘撞擊坑, Score: 53.483047\n",
      "Page ID: 015-02509, Name: 帕西忒亞, Score: 53.32935\n",
      "Page ID: 006-48182, Name: 帕耳開, Score: 52.88429\n",
      "Page ID: 001-09609, Name: 木衛十, Score: 52.364555\n",
      "Page ID: 006-48810, Name: 土衛五十三, Score: 52.347473\n",
      "Page ID: 001-09633, Name: 木衛三十三, Score: 51.89009\n",
      "Page ID: 015-00153, Name: 麥萊亞戈, Score: 51.65578\n",
      "Page ID: 015-02919, Name: 赫革摩涅, Score: 51.603306\n",
      "Page ID: 001-09616, Name: 木衛十七, Score: 51.416946\n",
      "Page ID: 002-36245, Name: 鬩衛一, Score: 50.917206\n",
      "Page ID: 021-28334, Name: Arche_(消歧義), Score: 50.894054\n",
      "Page ID: 001-09693, Name: 海衛十三, Score: 50.790874\n",
      "Page ID: 014-40741, Name: 卡里斯_(希臘神話), Score: 50.709526\n",
      "Page ID: 001-09638, Name: 木衛三十四, Score: 50.536514\n",
      "Page ID: 017-46521, Name: 艾菲蜜, Score: 50.460243\n",
      "Page ID: 001-09634, Name: 木衛三十五, Score: 50.383636\n",
      "Page ID: 015-02907, Name: 卡勒_(希臘神話), Score: 50.28047\n",
      "Page ID: 022-47152, Name: 奧托諾伊, Score: 50.259556\n",
      "Page ID: 001-09622, Name: 木衛二十, Score: 50.190002\n",
      "Page ID: 014-20867, Name: 佩託, Score: 50.15354\n",
      "Page ID: 014-41170, Name: 蓋亞撞擊坑, Score: 49.96261\n",
      "Page ID: 015-02390, Name: 歐律諾墨, Score: 49.74697\n",
      "Page ID: 001-09647, Name: 木衛四十四, Score: 49.50716\n",
      "Page ID: 002-00531, Name: 摩伊賴, Score: 49.236885\n",
      "Page ID: 014-49957, Name: 阿瑪爾忒婭, Score: 49.2336\n",
      "Page ID: 001-09614, Name: 木衛十五, Score: 49.18705\n",
      "Page ID: 001-09604, Name: 木衛六, Score: 49.12164\n",
      "Page ID: 004-26714, Name: 風神, Score: 49.031372\n",
      "Page ID: 009-10308, Name: 曙光女神, Score: 48.880043\n",
      "Page ID: 001-09646, Name: 木衛三十九, Score: 48.50938\n",
      "Page ID: 008-10837, Name: 小行星627, Score: 48.486168\n",
      "Page ID: 005-04879, Name: 拉刻西斯, Score: 48.39202\n",
      "Page ID: 016-12965, Name: 克勒塔, Score: 48.376354\n",
      "Page ID: 014-11488, Name: 歐芙洛緒涅, Score: 48.29949\n",
      "Page ID: 001-12027, Name: 克利俄, Score: 48.010574\n",
      "Page ID: 022-46964, Name: 克里夢妮, Score: 47.966877\n",
      "Page ID: 004-16063, Name: 希瑪利亞, Score: 47.56291\n",
      "Page ID: 001-09620, Name: 木衛十九, Score: 47.5596\n",
      "Page ID: 001-08925, Name: 土衛十二, Score: 47.283573\n",
      "Page ID: 001-09641, Name: 木衛三十六, Score: 47.197533\n",
      "Page ID: 015-02506, Name: 塔利亞_(美惠女神), Score: 47.007004\n",
      "Page ID: 020-44230, Name: Klotho, Score: 46.708015\n",
      "Page ID: 001-10103, Name: 忒勒斯托, Score: 46.36685\n",
      "Page ID: 002-00913, Name: 荷賴, Score: 46.142506\n",
      "Page ID: 001-08284, Name: 阿佛洛狄忒, Score: 46.128456\n",
      "Page ID: 008-00614, Name: 月女星, Score: 46.085957\n",
      "Page ID: 001-09688, Name: 海衛六, Score: 46.07481\n"
     ]
    }
   ],
   "source": [
    "index_name = \"wiki-page\"\n",
    "\n",
    "claim = \"木衛三十九被以希臘神話中的美惠五女神之一的名稱命名。\"\n",
    "\n",
    "# 構建查詢\n",
    "query = {\n",
    "    \"query\": {\n",
    "        \"match\": {\n",
    "            \"text\": claim\n",
    "        }\n",
    "    },\n",
    "    'size': 50,  # default size: 10\n",
    "    \"track_total_hits\": True\n",
    "}\n",
    "\n",
    "# 執行查詢\n",
    "response = es.search(index=index_name, body=query)\n",
    "\n",
    "# 解析結果\n",
    "hits = response[\"hits\"][\"hits\"]\n",
    "related_pages = [(hit[\"_id\"], hit['_source']['id'], hit[\"_score\"]) for hit in hits]\n",
    "\n",
    "# 打印相關頁面信息\n",
    "for page_id, name, score in related_pages:\n",
    "    print(f\"Page ID: {page_id}, Name: {name}, Score: {score}\")"
   ]
  },
  {
   "attachments": {},
   "cell_type": "markdown",
   "metadata": {},
   "source": [
    "## score-base search"
   ]
  },
  {
   "cell_type": "code",
   "execution_count": 17,
   "metadata": {},
   "outputs": [
    {
     "name": "stderr",
     "output_type": "stream",
     "text": [
      "/var/folders/3q/d3sbdtsx0pvclp6tnk0bc6mw0000gn/T/ipykernel_16699/441924127.py:17: DeprecationWarning: The 'body' parameter is deprecated and will be removed in a future version. Instead use individual parameters.\n",
      "  response = es.search(index=index_name, body=query)\n"
     ]
    },
    {
     "name": "stdout",
     "output_type": "stream",
     "text": [
      "Page ID: 020-45171, Name: 緹坦妮雅, Score: 65.25459\n",
      "Page ID: 001-09662, Name: 天衛三, Score: 63.515965\n"
     ]
    }
   ],
   "source": [
    "index_name = \"wiki-page\"\n",
    "\n",
    "claim = \"天衛三軌道在天王星內部的磁層，以《 仲夏夜之夢 》作者緹坦妮雅命名。\"\n",
    "\n",
    "# 構建查詢\n",
    "query = {\n",
    "    \"query\": {\n",
    "        \"match\": {\n",
    "            \"text\": claim\n",
    "        }\n",
    "    },\n",
    "    'size': 50,  # default size: 10\n",
    "    \"track_total_hits\": True\n",
    "}\n",
    "\n",
    "# 執行查詢\n",
    "response = es.search(index=index_name, body=query)\n",
    "\n",
    "# 解析結果\n",
    "hits = response[\"hits\"][\"hits\"]\n",
    "related_pages = [(hit[\"_id\"], hit['_source']['id'], hit[\"_score\"]) for hit in hits]\n",
    "highest_score = related_pages[0][2]\n",
    "SCORE_BOUND = 5\n",
    "# 打印相關頁面信息\n",
    "for page_id, name, score in related_pages:\n",
    "    if highest_score - score <= SCORE_BOUND:\n",
    "        print(f\"Page ID: {page_id}, Name: {name}, Score: {score}\")\n",
    "    else:\n",
    "        break\n"
   ]
  },
  {
   "cell_type": "code",
   "execution_count": 18,
   "metadata": {},
   "outputs": [],
   "source": [
    "def get_wiki_page(claim, size=5):\n",
    "    index_name = \"wiki-page\"\n",
    "    claim = claim\n",
    "\n",
    "    # 構建查詢\n",
    "    query = {\n",
    "        \"query\": {\n",
    "            \"match\": {\n",
    "                \"text\": claim\n",
    "            }\n",
    "        },\n",
    "        'size': size,  # default size: 10\n",
    "        \"track_total_hits\": True\n",
    "    }\n",
    "\n",
    "    # 執行查詢\n",
    "    response = es.search(index=index_name, body=query)\n",
    "\n",
    "    hits = response[\"hits\"][\"hits\"]\n",
    "    \n",
    "    return [hit['_source']['id'] for hit in hits]"
   ]
  },
  {
   "cell_type": "code",
   "execution_count": 20,
   "metadata": {},
   "outputs": [],
   "source": [
    "def get_wiki_page_by_score(claim, bound):\n",
    "    index_name = \"wiki-page\"\n",
    "    claim = claim\n",
    "\n",
    "    # 構建查詢\n",
    "    query = {\n",
    "        \"query\": {\n",
    "            \"match\": {\n",
    "                \"text\": claim\n",
    "            }\n",
    "        },\n",
    "        'size': 50,  # default size: 10\n",
    "        \"track_total_hits\": True\n",
    "    }\n",
    "\n",
    "    # 執行查詢\n",
    "    result = []\n",
    "    response = es.search(index=index_name, body=query)\n",
    "\n",
    "    hits = response[\"hits\"][\"hits\"]\n",
    "    highest_score = hits[0]['_score']\n",
    "    for hit in hits:\n",
    "        if highest_score - hit['_score'] <= bound:\n",
    "            result.append(hit['_source']['id'])\n",
    "    \n",
    "    return result"
   ]
  },
  {
   "cell_type": "code",
   "execution_count": 21,
   "metadata": {},
   "outputs": [
    {
     "name": "stderr",
     "output_type": "stream",
     "text": [
      "/var/folders/3q/d3sbdtsx0pvclp6tnk0bc6mw0000gn/T/ipykernel_16699/3587830287.py:17: DeprecationWarning: The 'body' parameter is deprecated and will be removed in a future version. Instead use individual parameters.\n",
      "  response = es.search(index=index_name, body=query)\n"
     ]
    },
    {
     "data": {
      "text/plain": [
       "['中國海', '阿曼', '厄立特里亞地理', '西里伯斯海', '緬甸地理']"
      ]
     },
     "execution_count": 21,
     "metadata": {},
     "output_type": "execute_result"
    }
   ],
   "source": [
    "claim = '位於西南亞的阿曼蘇丹國南部和東部臨太平洋。'\n",
    "get_wiki_page(claim, size=5)"
   ]
  },
  {
   "cell_type": "code",
   "execution_count": 22,
   "metadata": {},
   "outputs": [
    {
     "name": "stderr",
     "output_type": "stream",
     "text": [
      "/var/folders/3q/d3sbdtsx0pvclp6tnk0bc6mw0000gn/T/ipykernel_16699/4261200372.py:18: DeprecationWarning: The 'body' parameter is deprecated and will be removed in a future version. Instead use individual parameters.\n",
      "  response = es.search(index=index_name, body=query)\n"
     ]
    },
    {
     "data": {
      "text/plain": [
       "['中國海', '阿曼', '厄立特里亞地理', '西里伯斯海', '緬甸地理', '阿納蘭吉魯富大區']"
      ]
     },
     "execution_count": 22,
     "metadata": {},
     "output_type": "execute_result"
    }
   ],
   "source": [
    "claim = '位於西南亞的阿曼蘇丹國南部和東部臨太平洋。'\n",
    "get_wiki_page_by_score(claim, bound=4.5)"
   ]
  },
  {
   "cell_type": "code",
   "execution_count": 23,
   "metadata": {},
   "outputs": [
    {
     "name": "stderr",
     "output_type": "stream",
     "text": [
      "  0%|          | 0/989 [00:00<?, ?it/s]/var/folders/3q/d3sbdtsx0pvclp6tnk0bc6mw0000gn/T/ipykernel_16699/3587830287.py:17: DeprecationWarning: The 'body' parameter is deprecated and will be removed in a future version. Instead use individual parameters.\n",
      "  response = es.search(index=index_name, body=query)\n",
      "100%|██████████| 989/989 [03:17<00:00,  5.00it/s]\n"
     ]
    }
   ],
   "source": [
    "train_path = Path('../data/public_test.jsonl')\n",
    "results = []\n",
    "SIZE = 10\n",
    "total_instance = sum([1 for i in open(train_path, 'r')])\n",
    "with open(train_path, 'r') as f:\n",
    "    for i, line in tqdm(enumerate(f), total=total_instance):\n",
    "        results.append(get_wiki_page(claim=json.loads(line)['claim'], size=SIZE))\n",
    "\n",
    "save_path = Path(f'../cache/es_test_token_{SIZE}.txt')\n",
    "with open(save_path, 'w') as f:\n",
    "    for re in results:\n",
    "        f.write(' '.join(re))\n",
    "        f.write('\\n')"
   ]
  },
  {
   "cell_type": "code",
   "execution_count": null,
   "metadata": {},
   "outputs": [],
   "source": [
    "# train_path = Path('../data/public_train.jsonl')\n",
    "# results = []\n",
    "# SCORE_BOUND = 5\n",
    "# MIN_RTV = 1\n",
    "# with open(train_path, 'r') as f:\n",
    "#     for i, line in enumerate(f):\n",
    "#         result = get_wiki_page_by_score(claim=json.loads(line)['claim'], bound=SCORE_BOUND)\n",
    "#         sum = len(result)\n",
    "#         if MIN_RTV == 1:\n",
    "#             continue\n",
    "#         if sum < MIN_RTV:\n",
    "#             result += get_wiki_page(claim=json.loads(line)['claim'], size=MIN_RTV)[sum:]\n",
    "#         results.append(result)\n",
    "# save_path = Path(f'../cache/es_train_bound_{SCORE_BOUND}_minrtv_{MIN_RTV}.txt')\n",
    "# with open(save_path, 'w') as f:\n",
    "#     for re in results:\n",
    "#         f.write(' '.join(re))\n",
    "#         f.write('\\n')"
   ]
  },
  {
   "cell_type": "code",
   "execution_count": null,
   "metadata": {},
   "outputs": [],
   "source": [
    "import wikipedia\n",
    "wikipedia.set_lang(\"zh\")\n",
    "\n",
    "result = wikipedia.search('民進黨')\n",
    "print(result)"
   ]
  }
 ],
 "metadata": {
  "kernelspec": {
   "display_name": "aicup",
   "language": "python",
   "name": "python3"
  },
  "language_info": {
   "codemirror_mode": {
    "name": "ipython",
    "version": 3
   },
   "file_extension": ".py",
   "mimetype": "text/x-python",
   "name": "python",
   "nbconvert_exporter": "python",
   "pygments_lexer": "ipython3",
   "version": "3.9.0"
  },
  "orig_nbformat": 4
 },
 "nbformat": 4,
 "nbformat_minor": 2
}
