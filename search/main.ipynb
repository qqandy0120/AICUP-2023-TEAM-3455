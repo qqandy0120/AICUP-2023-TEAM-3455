{
 "cells": [
  {
   "cell_type": "code",
   "execution_count": 5,
   "metadata": {},
   "outputs": [],
   "source": [
    "from elasticsearch import Elasticsearch\n",
    "import configparser\n",
    "from pathlib import Path\n",
    "import json\n",
    "from tqdm import tqdm"
   ]
  },
  {
   "attachments": {},
   "cell_type": "markdown",
   "metadata": {},
   "source": [
    "## Connect to elasticsearch\n",
    "### To do so, you have to create a deployment in [elasticsearch website](https://cloud.elastic.co/deployments) and then fill in the information in [credential.ini](credential.ini)"
   ]
  },
  {
   "cell_type": "code",
   "execution_count": 6,
   "metadata": {},
   "outputs": [
    {
     "data": {
      "text/plain": [
       "['credential.ini']"
      ]
     },
     "execution_count": 6,
     "metadata": {},
     "output_type": "execute_result"
    }
   ],
   "source": [
    "config = configparser.ConfigParser()\n",
    "config.read('credential.ini')"
   ]
  },
  {
   "cell_type": "code",
   "execution_count": 7,
   "metadata": {},
   "outputs": [],
   "source": [
    "es = Elasticsearch(\n",
    "    cloud_id=config['ELASTIC']['cloud_id'],\n",
    "    basic_auth=(config['ELASTIC']['user'], config['ELASTIC']['password'])\n",
    ")"
   ]
  },
  {
   "attachments": {},
   "cell_type": "markdown",
   "metadata": {},
   "source": [
    "### Ingest data with python on Elasticsearch Service\n",
    "#### it may take 8-10 hours to ingest all wiki pages into elasticsearh database"
   ]
  },
  {
   "cell_type": "code",
   "execution_count": 8,
   "metadata": {},
   "outputs": [
    {
     "name": "stdout",
     "output_type": "stream",
     "text": [
      "Ingesting wiki-001...\n"
     ]
    },
    {
     "name": "stderr",
     "output_type": "stream",
     "text": [
      "100%|██████████| 50000/50000 [20:22<00:00, 40.90it/s]  \n"
     ]
    },
    {
     "name": "stdout",
     "output_type": "stream",
     "text": [
      "Ingesting wiki-002...\n"
     ]
    },
    {
     "name": "stderr",
     "output_type": "stream",
     "text": [
      "100%|██████████| 50000/50000 [21:01<00:00, 39.63it/s] \n"
     ]
    },
    {
     "name": "stdout",
     "output_type": "stream",
     "text": [
      "Ingesting wiki-003...\n"
     ]
    },
    {
     "name": "stderr",
     "output_type": "stream",
     "text": [
      "100%|██████████| 50000/50000 [21:27<00:00, 38.84it/s]  \n"
     ]
    },
    {
     "name": "stdout",
     "output_type": "stream",
     "text": [
      "Ingesting wiki-004...\n"
     ]
    },
    {
     "name": "stderr",
     "output_type": "stream",
     "text": [
      "100%|██████████| 50000/50000 [23:54<00:00, 34.85it/s]\n"
     ]
    },
    {
     "name": "stdout",
     "output_type": "stream",
     "text": [
      "Ingesting wiki-005...\n"
     ]
    },
    {
     "name": "stderr",
     "output_type": "stream",
     "text": [
      "100%|██████████| 50000/50000 [21:05<00:00, 39.51it/s]  \n"
     ]
    },
    {
     "name": "stdout",
     "output_type": "stream",
     "text": [
      "Ingesting wiki-006...\n"
     ]
    },
    {
     "name": "stderr",
     "output_type": "stream",
     "text": [
      "100%|██████████| 50000/50000 [22:32<00:00, 36.97it/s]  \n"
     ]
    },
    {
     "name": "stdout",
     "output_type": "stream",
     "text": [
      "Ingesting wiki-007...\n"
     ]
    },
    {
     "name": "stderr",
     "output_type": "stream",
     "text": [
      "100%|██████████| 50000/50000 [20:46<00:00, 40.10it/s]  \n"
     ]
    },
    {
     "name": "stdout",
     "output_type": "stream",
     "text": [
      "Ingesting wiki-008...\n"
     ]
    },
    {
     "name": "stderr",
     "output_type": "stream",
     "text": [
      "100%|██████████| 50000/50000 [20:45<00:00, 40.14it/s] \n"
     ]
    },
    {
     "name": "stdout",
     "output_type": "stream",
     "text": [
      "Ingesting wiki-009...\n"
     ]
    },
    {
     "name": "stderr",
     "output_type": "stream",
     "text": [
      "100%|██████████| 50000/50000 [20:37<00:00, 40.42it/s]  \n"
     ]
    },
    {
     "name": "stdout",
     "output_type": "stream",
     "text": [
      "Ingesting wiki-010...\n"
     ]
    },
    {
     "name": "stderr",
     "output_type": "stream",
     "text": [
      "100%|██████████| 50000/50000 [20:55<00:00, 39.82it/s]  \n"
     ]
    },
    {
     "name": "stdout",
     "output_type": "stream",
     "text": [
      "Ingesting wiki-011...\n"
     ]
    },
    {
     "name": "stderr",
     "output_type": "stream",
     "text": [
      "100%|██████████| 50000/50000 [20:41<00:00, 40.28it/s]  \n"
     ]
    },
    {
     "name": "stdout",
     "output_type": "stream",
     "text": [
      "Ingesting wiki-012...\n"
     ]
    },
    {
     "name": "stderr",
     "output_type": "stream",
     "text": [
      "100%|██████████| 50000/50000 [20:24<00:00, 40.85it/s]  \n"
     ]
    },
    {
     "name": "stdout",
     "output_type": "stream",
     "text": [
      "Ingesting wiki-013...\n"
     ]
    },
    {
     "name": "stderr",
     "output_type": "stream",
     "text": [
      "100%|██████████| 50000/50000 [19:28<00:00, 42.77it/s]  \n"
     ]
    },
    {
     "name": "stdout",
     "output_type": "stream",
     "text": [
      "Ingesting wiki-014...\n"
     ]
    },
    {
     "name": "stderr",
     "output_type": "stream",
     "text": [
      "100%|██████████| 50000/50000 [19:32<00:00, 42.64it/s]\n"
     ]
    },
    {
     "name": "stdout",
     "output_type": "stream",
     "text": [
      "Ingesting wiki-015...\n"
     ]
    },
    {
     "name": "stderr",
     "output_type": "stream",
     "text": [
      "100%|██████████| 50000/50000 [20:05<00:00, 41.47it/s] \n"
     ]
    },
    {
     "name": "stdout",
     "output_type": "stream",
     "text": [
      "Ingesting wiki-016...\n"
     ]
    },
    {
     "name": "stderr",
     "output_type": "stream",
     "text": [
      "100%|██████████| 50000/50000 [19:57<00:00, 41.74it/s]\n"
     ]
    },
    {
     "name": "stdout",
     "output_type": "stream",
     "text": [
      "Ingesting wiki-017...\n"
     ]
    },
    {
     "name": "stderr",
     "output_type": "stream",
     "text": [
      "100%|██████████| 50000/50000 [20:02<00:00, 41.58it/s]\n"
     ]
    },
    {
     "name": "stdout",
     "output_type": "stream",
     "text": [
      "Ingesting wiki-018...\n"
     ]
    },
    {
     "name": "stderr",
     "output_type": "stream",
     "text": [
      "100%|██████████| 50000/50000 [22:11<00:00, 37.56it/s]  \n"
     ]
    },
    {
     "name": "stdout",
     "output_type": "stream",
     "text": [
      "Ingesting wiki-019...\n"
     ]
    },
    {
     "name": "stderr",
     "output_type": "stream",
     "text": [
      "100%|██████████| 50000/50000 [26:55<00:00, 30.94it/s]  \n"
     ]
    },
    {
     "name": "stdout",
     "output_type": "stream",
     "text": [
      "Ingesting wiki-020...\n"
     ]
    },
    {
     "name": "stderr",
     "output_type": "stream",
     "text": [
      "100%|██████████| 50000/50000 [21:08<00:00, 39.43it/s] \n"
     ]
    },
    {
     "name": "stdout",
     "output_type": "stream",
     "text": [
      "Ingesting wiki-021...\n"
     ]
    },
    {
     "name": "stderr",
     "output_type": "stream",
     "text": [
      "100%|██████████| 50000/50000 [20:45<00:00, 40.13it/s]\n"
     ]
    },
    {
     "name": "stdout",
     "output_type": "stream",
     "text": [
      "Ingesting wiki-022...\n"
     ]
    },
    {
     "name": "stderr",
     "output_type": "stream",
     "text": [
      "100%|██████████| 50000/50000 [26:46<00:00, 31.12it/s]  \n"
     ]
    },
    {
     "name": "stdout",
     "output_type": "stream",
     "text": [
      "Ingesting wiki-023...\n"
     ]
    },
    {
     "name": "stderr",
     "output_type": "stream",
     "text": [
      "100%|██████████| 50000/50000 [20:50<00:00, 39.99it/s]\n"
     ]
    },
    {
     "name": "stdout",
     "output_type": "stream",
     "text": [
      "Ingesting wiki-024...\n"
     ]
    },
    {
     "name": "stderr",
     "output_type": "stream",
     "text": [
      "100%|██████████| 37751/37751 [16:01<00:00, 39.27it/s]\n"
     ]
    }
   ],
   "source": [
    "from time import sleep\n",
    "for page_id in range(1, 25):\n",
    "    wiki_path = Path(f'../data/wiki-pages/wiki-{str(page_id).zfill(3)}.jsonl')\n",
    "    print(f'Ingesting wiki-{str(page_id).zfill(3)}...')\n",
    "    page_sum = sum([1 for i in open(wiki_path, 'r')])\n",
    "    with open(wiki_path, 'r') as f:\n",
    "        for doc_id, line in tqdm(enumerate(f), total=page_sum):\n",
    "            es.index(\n",
    "                index='wiki-page',\n",
    "                id=f'{str(page_id).zfill(3)}-{str(doc_id+1).zfill(5)}',\n",
    "                document=json.loads(line)\n",
    "            )"
   ]
  },
  {
   "cell_type": "code",
   "execution_count": null,
   "metadata": {},
   "outputs": [],
   "source": [
    "es.indices.refresh(index='wiki-page')"
   ]
  },
  {
   "attachments": {},
   "cell_type": "markdown",
   "metadata": {},
   "source": [
    "### check total number of wiki pages"
   ]
  },
  {
   "cell_type": "code",
   "execution_count": null,
   "metadata": {},
   "outputs": [],
   "source": [
    "index_name = 'wiki-page'\n",
    "query = {\n",
    "    'query': {\n",
    "        'match_all': {}\n",
    "    }\n",
    "}\n",
    "\n",
    "response = es.count(index=index_name, body=query)\n",
    "\n",
    "total_count = response['count']\n",
    "print(total_count)"
   ]
  },
  {
   "attachments": {},
   "cell_type": "markdown",
   "metadata": {},
   "source": [
    "### 找 wiki page 位置"
   ]
  },
  {
   "cell_type": "code",
   "execution_count": null,
   "metadata": {},
   "outputs": [],
   "source": [
    "index_name = \"wiki-page\"\n",
    "\n",
    "page_name = \"臺南市安平水產專修學校\"\n",
    "\n",
    "# 構建查詢\n",
    "query = {\n",
    "    \"query\": {\n",
    "        \"match\": {\n",
    "            \"id\": page_name\n",
    "        }\n",
    "    },\n",
    "    'size': 1  # default size: 10\n",
    "}\n",
    "\n",
    "# 執行查詢\n",
    "response = es.search(index=index_name, body=query)\n",
    "\n",
    "# 解析結果\n",
    "hits = response[\"hits\"][\"hits\"]\n",
    "related_pages = [(hit[\"_id\"], hit['_source']['id'], hit[\"_score\"]) for hit in hits]\n",
    "\n",
    "# 打印相關頁面信息\n",
    "for page_id, name, score in related_pages:\n",
    "    print(f\"Page ID: {page_id}, Name: {name}, Score: {score}\")\n",
    "\n",
    "print(hits[0])"
   ]
  },
  {
   "attachments": {},
   "cell_type": "markdown",
   "metadata": {},
   "source": [
    "### 全文檢索\n",
    "### you can try any claim and see top 10 related wiki pages. "
   ]
  },
  {
   "cell_type": "code",
   "execution_count": null,
   "metadata": {},
   "outputs": [],
   "source": [
    "index_name = \"wiki-page\"\n",
    "\n",
    "claim = input(\"claim:\")\n",
    "\n",
    "# 構建查詢\n",
    "query = {\n",
    "    \"query\": {\n",
    "        \"match\": {\n",
    "            \"text\": claim\n",
    "        }\n",
    "    },\n",
    "    'size': 50,  # default size: 10\n",
    "    \"track_total_hits\": True\n",
    "}\n",
    "\n",
    "# 執行查詢\n",
    "response = es.search(index=index_name, body=query)\n",
    "\n",
    "# 解析結果\n",
    "hits = response[\"hits\"][\"hits\"]\n",
    "related_pages = [(hit[\"_id\"], hit['_source']['id'], hit[\"_score\"]) for hit in hits]\n",
    "\n",
    "# 打印相關頁面信息\n",
    "for page_id, name, score in related_pages:\n",
    "    print(f\"Page ID: {page_id}, Name: {name}, Score: {score}\")"
   ]
  },
  {
   "cell_type": "code",
   "execution_count": null,
   "metadata": {},
   "outputs": [],
   "source": [
    "def get_wiki_page(claim, size=5):\n",
    "    index_name = \"wiki-page\"\n",
    "    claim = claim\n",
    "\n",
    "    # 構建查詢\n",
    "    query = {\n",
    "        \"query\": {\n",
    "            \"match\": {\n",
    "                \"text\": claim\n",
    "            }\n",
    "        },\n",
    "        'size': size,  # default size: 10\n",
    "        \"track_total_hits\": True\n",
    "    }\n",
    "\n",
    "    # 執行查詢\n",
    "    response = es.search(index=index_name, body=query)\n",
    "\n",
    "    hits = response[\"hits\"][\"hits\"]\n",
    "    \n",
    "    return [hit['_source']['id'] for hit in hits]"
   ]
  },
  {
   "attachments": {},
   "cell_type": "markdown",
   "metadata": {},
   "source": [
    "### Save top 10 similarities wiki page with each claim"
   ]
  },
  {
   "cell_type": "code",
   "execution_count": null,
   "metadata": {},
   "outputs": [],
   "source": [
    "modes = ['train', 'test']\n",
    "for mode in modes:\n",
    "    path = Path(f'../data/all_{mode}.jsonl')\n",
    "    results = []\n",
    "    SIZE = 10\n",
    "    total_instance = sum([1 for i in open(path, 'r')])\n",
    "    with open(path, 'r') as f:\n",
    "        for i, line in tqdm(enumerate(f), total=total_instance):\n",
    "            results.append(get_wiki_page(claim=json.loads(line)['claim'], size=SIZE))\n",
    "\n",
    "    save_path = Path(f'../cache/all_es_{mode}_token_{SIZE}.txt')\n",
    "    with open(save_path, 'w') as f:\n",
    "        for re in results:\n",
    "            f.write(' '.join(re))\n",
    "            f.write('\\n')"
   ]
  }
 ],
 "metadata": {
  "kernelspec": {
   "display_name": "aicup",
   "language": "python",
   "name": "python3"
  },
  "language_info": {
   "codemirror_mode": {
    "name": "ipython",
    "version": 3
   },
   "file_extension": ".py",
   "mimetype": "text/x-python",
   "name": "python",
   "nbconvert_exporter": "python",
   "pygments_lexer": "ipython3",
   "version": "3.9.16"
  },
  "orig_nbformat": 4
 },
 "nbformat": 4,
 "nbformat_minor": 2
}
