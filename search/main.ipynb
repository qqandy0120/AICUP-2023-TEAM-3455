{
 "cells": [
  {
   "cell_type": "code",
   "execution_count": null,
   "metadata": {},
   "outputs": [],
   "source": [
    "!pip install elasticsearch"
   ]
  },
  {
   "cell_type": "code",
   "execution_count": 1,
   "metadata": {},
   "outputs": [
    {
     "ename": "ModuleNotFoundError",
     "evalue": "No module named 'elasticsearch'",
     "output_type": "error",
     "traceback": [
      "\u001b[0;31m---------------------------------------------------------------------------\u001b[0m",
      "\u001b[0;31mModuleNotFoundError\u001b[0m                       Traceback (most recent call last)",
      "Cell \u001b[0;32mIn[1], line 1\u001b[0m\n\u001b[0;32m----> 1\u001b[0m \u001b[39mfrom\u001b[39;00m \u001b[39melasticsearch\u001b[39;00m \u001b[39mimport\u001b[39;00m Elasticsearch\n\u001b[1;32m      2\u001b[0m \u001b[39mimport\u001b[39;00m \u001b[39mconfigparser\u001b[39;00m\n\u001b[1;32m      3\u001b[0m \u001b[39mfrom\u001b[39;00m \u001b[39mpathlib\u001b[39;00m \u001b[39mimport\u001b[39;00m Path\n",
      "\u001b[0;31mModuleNotFoundError\u001b[0m: No module named 'elasticsearch'"
     ]
    }
   ],
   "source": [
    "from elasticsearch import Elasticsearch\n",
    "import configparser\n",
    "from pathlib import Path\n",
    "import json\n",
    "from tqdm import tqdm"
   ]
  },
  {
   "cell_type": "code",
   "execution_count": null,
   "metadata": {},
   "outputs": [],
   "source": [
    "config = configparser.ConfigParser()\n",
    "config.read('credential.ini')"
   ]
  },
  {
   "cell_type": "code",
   "execution_count": null,
   "metadata": {},
   "outputs": [],
   "source": [
    "es = Elasticsearch(\n",
    "    cloud_id=config['ELASTIC']['cloud_id'],\n",
    "    basic_auth=(config['ELASTIC']['user'], config['ELASTIC']['password'])\n",
    ")"
   ]
  },
  {
   "attachments": {},
   "cell_type": "markdown",
   "metadata": {},
   "source": [
    "### Ingest data with python on Elasticsearch Service"
   ]
  },
  {
   "cell_type": "code",
   "execution_count": null,
   "metadata": {},
   "outputs": [],
   "source": [
    "# from time import sleep\n",
    "# for page_id in range(1, 25):\n",
    "#     wiki_path = Path(f'../data/wiki-pages/wiki-{str(page_id).zfill(3)}.jsonl')\n",
    "#     print(f'Ingesting wiki-{str(page_id).zfill(3)}...')\n",
    "#     page_sum = sum([1 for i in open(wiki_path, 'r')])\n",
    "#     with open(wiki_path, 'r') as f:\n",
    "#         for doc_id, line in tqdm(enumerate(f), total=page_sum):\n",
    "#             es.index(\n",
    "#                 index='wiki-page',\n",
    "#                 id=f'{str(page_id).zfill(3)}-{str(doc_id+1).zfill(5)}',\n",
    "#                 document=json.loads(line)\n",
    "#             )"
   ]
  },
  {
   "cell_type": "code",
   "execution_count": null,
   "metadata": {},
   "outputs": [],
   "source": [
    "es.indices.refresh(index='wiki-page')"
   ]
  },
  {
   "cell_type": "code",
   "execution_count": null,
   "metadata": {},
   "outputs": [],
   "source": [
    "\n",
    "text = '中國人徐翔曾因爲涉嫌操縱證券市場及內幕交易犯罪，被公安機關依法批准逮捕。'\n",
    "\n",
    "result = es.search(\n",
    "    index='wiki-page',\n",
    "    query={\n",
    "        'match':{\n",
    "            'id': text\n",
    "        }\n",
    "    }\n",
    ")\n",
    "\n",
    "\n",
    "hits = result['hits']['hits']\n",
    "\n",
    "for hit in hits:\n",
    "    document_id = hit[\"_id\"]\n",
    "    score = hit[\"_score\"]\n",
    "    page_name = hit['_source']['id']\n",
    "    print(f\"Document ID: {document_id}, Name: {page_name}, Score: {score}\")"
   ]
  },
  {
   "cell_type": "code",
   "execution_count": null,
   "metadata": {},
   "outputs": [],
   "source": [
    "index_name = 'wiki-page'\n",
    "query = {\n",
    "    'query': {\n",
    "        'match_all': {}\n",
    "    }\n",
    "}\n",
    "\n",
    "response = es.count(index=index_name, body=query)\n",
    "\n",
    "total_count = response['count']\n",
    "print(total_count)"
   ]
  },
  {
   "attachments": {},
   "cell_type": "markdown",
   "metadata": {},
   "source": [
    "### 找 wiki page 位置"
   ]
  },
  {
   "cell_type": "code",
   "execution_count": null,
   "metadata": {},
   "outputs": [],
   "source": [
    "index_name = \"wiki-page\"\n",
    "\n",
    "page_name = \"臺南市安平水產專修學校\"\n",
    "\n",
    "# 構建查詢\n",
    "query = {\n",
    "    \"query\": {\n",
    "        \"match\": {\n",
    "            \"id\": page_name\n",
    "        }\n",
    "    },\n",
    "    'size': 1  # default size: 10\n",
    "}\n",
    "\n",
    "# 執行查詢\n",
    "response = es.search(index=index_name, body=query)\n",
    "\n",
    "# 解析結果\n",
    "hits = response[\"hits\"][\"hits\"]\n",
    "related_pages = [(hit[\"_id\"], hit['_source']['id'], hit[\"_score\"]) for hit in hits]\n",
    "\n",
    "# 打印相關頁面信息\n",
    "for page_id, name, score in related_pages:\n",
    "    print(f\"Page ID: {page_id}, Name: {name}, Score: {score}\")\n",
    "\n",
    "print(hits[0])"
   ]
  },
  {
   "attachments": {},
   "cell_type": "markdown",
   "metadata": {},
   "source": [
    "### 全文檢索"
   ]
  },
  {
   "cell_type": "code",
   "execution_count": null,
   "metadata": {},
   "outputs": [],
   "source": [
    "index_name = \"wiki-page\"\n",
    "\n",
    "claim = \"木衛三十九被以希臘神話中的美惠五女神之一的名稱命名。\"\n",
    "\n",
    "# 構建查詢\n",
    "query = {\n",
    "    \"query\": {\n",
    "        \"match\": {\n",
    "            \"text\": claim\n",
    "        }\n",
    "    },\n",
    "    'size': 50,  # default size: 10\n",
    "    \"track_total_hits\": True\n",
    "}\n",
    "\n",
    "# 執行查詢\n",
    "response = es.search(index=index_name, body=query)\n",
    "\n",
    "# 解析結果\n",
    "hits = response[\"hits\"][\"hits\"]\n",
    "related_pages = [(hit[\"_id\"], hit['_source']['id'], hit[\"_score\"]) for hit in hits]\n",
    "\n",
    "# 打印相關頁面信息\n",
    "for page_id, name, score in related_pages:\n",
    "    print(f\"Page ID: {page_id}, Name: {name}, Score: {score}\")"
   ]
  },
  {
   "attachments": {},
   "cell_type": "markdown",
   "metadata": {},
   "source": [
    "## score-base search"
   ]
  },
  {
   "cell_type": "code",
   "execution_count": null,
   "metadata": {},
   "outputs": [],
   "source": [
    "index_name = \"wiki-page\"\n",
    "\n",
    "claim = \"天衛三軌道在天王星內部的磁層，以《 仲夏夜之夢 》作者緹坦妮雅命名。\"\n",
    "\n",
    "# 構建查詢\n",
    "query = {\n",
    "    \"query\": {\n",
    "        \"match\": {\n",
    "            \"text\": claim\n",
    "        }\n",
    "    },\n",
    "    'size': 50,  # default size: 10\n",
    "    \"track_total_hits\": True\n",
    "}\n",
    "\n",
    "# 執行查詢\n",
    "response = es.search(index=index_name, body=query)\n",
    "\n",
    "# 解析結果\n",
    "hits = response[\"hits\"][\"hits\"]\n",
    "related_pages = [(hit[\"_id\"], hit['_source']['id'], hit[\"_score\"]) for hit in hits]\n",
    "highest_score = related_pages[0][2]\n",
    "SCORE_BOUND = 5\n",
    "# 打印相關頁面信息\n",
    "for page_id, name, score in related_pages:\n",
    "    if highest_score - score <= SCORE_BOUND:\n",
    "        print(f\"Page ID: {page_id}, Name: {name}, Score: {score}\")\n",
    "    else:\n",
    "        break\n"
   ]
  },
  {
   "cell_type": "code",
   "execution_count": null,
   "metadata": {},
   "outputs": [],
   "source": [
    "def get_wiki_page(claim, size=5):\n",
    "    index_name = \"wiki-page\"\n",
    "    claim = claim\n",
    "\n",
    "    # 構建查詢\n",
    "    query = {\n",
    "        \"query\": {\n",
    "            \"match\": {\n",
    "                \"text\": claim\n",
    "            }\n",
    "        },\n",
    "        'size': size,  # default size: 10\n",
    "        \"track_total_hits\": True\n",
    "    }\n",
    "\n",
    "    # 執行查詢\n",
    "    response = es.search(index=index_name, body=query)\n",
    "\n",
    "    hits = response[\"hits\"][\"hits\"]\n",
    "    \n",
    "    return [hit['_source']['id'] for hit in hits]"
   ]
  },
  {
   "cell_type": "code",
   "execution_count": null,
   "metadata": {},
   "outputs": [],
   "source": [
    "def get_wiki_page_by_score(claim, bound):\n",
    "    index_name = \"wiki-page\"\n",
    "    claim = claim\n",
    "\n",
    "    # 構建查詢\n",
    "    query = {\n",
    "        \"query\": {\n",
    "            \"match\": {\n",
    "                \"text\": claim\n",
    "            }\n",
    "        },\n",
    "        'size': 50,  # default size: 10\n",
    "        \"track_total_hits\": True\n",
    "    }\n",
    "\n",
    "    # 執行查詢\n",
    "    result = []\n",
    "    response = es.search(index=index_name, body=query)\n",
    "\n",
    "    hits = response[\"hits\"][\"hits\"]\n",
    "    highest_score = hits[0]['_score']\n",
    "    for hit in hits:\n",
    "        if highest_score - hit['_score'] <= bound:\n",
    "            result.append(hit['_source']['id'])\n",
    "    \n",
    "    return result"
   ]
  },
  {
   "cell_type": "code",
   "execution_count": null,
   "metadata": {},
   "outputs": [],
   "source": [
    "claim = '位於西南亞的阿曼蘇丹國南部和東部臨太平洋。'\n",
    "get_wiki_page(claim, size=5)"
   ]
  },
  {
   "cell_type": "code",
   "execution_count": null,
   "metadata": {},
   "outputs": [],
   "source": [
    "claim = '位於西南亞的阿曼蘇丹國南部和東部臨太平洋。'\n",
    "get_wiki_page_by_score(claim, bound=4.5)"
   ]
  },
  {
   "cell_type": "code",
   "execution_count": null,
   "metadata": {},
   "outputs": [],
   "source": [
    "train_path = Path('../data/public_test.jsonl')\n",
    "results = []\n",
    "SIZE = 10\n",
    "total_instance = sum([1 for i in open(train_path, 'r')])\n",
    "with open(train_path, 'r') as f:\n",
    "    for i, line in tqdm(enumerate(f), total=total_instance):\n",
    "        results.append(get_wiki_page(claim=json.loads(line)['claim'], size=SIZE))\n",
    "\n",
    "save_path = Path(f'../cache/es_test_token_{SIZE}.txt')\n",
    "with open(save_path, 'w') as f:\n",
    "    for re in results:\n",
    "        f.write(' '.join(re))\n",
    "        f.write('\\n')"
   ]
  },
  {
   "cell_type": "code",
   "execution_count": null,
   "metadata": {},
   "outputs": [],
   "source": [
    "# train_path = Path('../data/public_train.jsonl')\n",
    "# results = []\n",
    "# SCORE_BOUND = 5\n",
    "# MIN_RTV = 1\n",
    "# with open(train_path, 'r') as f:\n",
    "#     for i, line in enumerate(f):\n",
    "#         result = get_wiki_page_by_score(claim=json.loads(line)['claim'], bound=SCORE_BOUND)\n",
    "#         sum = len(result)\n",
    "#         if MIN_RTV == 1:\n",
    "#             continue\n",
    "#         if sum < MIN_RTV:\n",
    "#             result += get_wiki_page(claim=json.loads(line)['claim'], size=MIN_RTV)[sum:]\n",
    "#         results.append(result)\n",
    "# save_path = Path(f'../cache/es_train_bound_{SCORE_BOUND}_minrtv_{MIN_RTV}.txt')\n",
    "# with open(save_path, 'w') as f:\n",
    "#     for re in results:\n",
    "#         f.write(' '.join(re))\n",
    "#         f.write('\\n')"
   ]
  },
  {
   "cell_type": "code",
   "execution_count": null,
   "metadata": {},
   "outputs": [],
   "source": [
    "import wikipedia\n",
    "wikipedia.set_lang(\"zh\")\n",
    "\n",
    "result = wikipedia.search('民進黨')\n",
    "print(result)"
   ]
  }
 ],
 "metadata": {
  "kernelspec": {
   "display_name": "aicup",
   "language": "python",
   "name": "python3"
  },
  "language_info": {
   "codemirror_mode": {
    "name": "ipython",
    "version": 3
   },
   "file_extension": ".py",
   "mimetype": "text/x-python",
   "name": "python",
   "nbconvert_exporter": "python",
   "pygments_lexer": "ipython3",
   "version": "3.9.16"
  },
  "orig_nbformat": 4
 },
 "nbformat": 4,
 "nbformat_minor": 2
}
